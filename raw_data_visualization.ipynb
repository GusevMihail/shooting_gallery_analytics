{
 "cells": [
  {
   "cell_type": "code",
   "execution_count": null,
   "metadata": {
    "pycharm": {
     "is_executing": false,
     "name": "#%%\n"
    }
   },
   "outputs": [],
   "source": [
    "import pandas as pd\n",
    "import matplotlib.pyplot as plt\n",
    "from read_data import df, df_with_rares, users_rating\n",
    "%load_ext autoreload\n",
    "%autoreload 2"
   ]
  },
  {
   "cell_type": "code",
   "execution_count": null,
   "metadata": {
    "pycharm": {
     "is_executing": false,
     "name": "#%%\n"
    }
   },
   "outputs": [],
   "source": [
    "df_with_rares.groupby(['store']).resample('W').mean()['income'].unstack(level=0)\\\n",
    "    .plot(legend=True, figsize=(10,10), title='усредненная по неделям выручка в разрезе тиров')\n"
   ]
  },
  {
   "cell_type": "code",
   "execution_count": null,
   "outputs": [],
   "source": [
    "df_with_rares.groupby(['m_user']).resample('W').mean()['income'].unstack(level=0)\\\n",
    "    .plot(legend=True, figsize=(10,10), title='усредненная по неделям выручка в разрезе операторов')"
   ],
   "metadata": {
    "collapsed": false,
    "pycharm": {
     "name": "#%%\n",
     "is_executing": false
    }
   }
  },
  {
   "cell_type": "code",
   "execution_count": null,
   "outputs": [],
   "source": [
    "df.groupby(['m_user']).resample('W').mean()['income'].unstack(level=0)\\\n",
    "    .plot(legend=True, figsize=(10,10), title='усредненная по неделям выручка в разрезе операторов')"
   ],
   "metadata": {
    "collapsed": false,
    "pycharm": {
     "name": "#%%\n",
     "is_executing": false
    }
   }
  },
  {
   "cell_type": "code",
   "execution_count": null,
   "outputs": [],
   "source": [
    "df.groupby(['week_day', 'store']).income.mean().unstack(level=1)\\\n",
    "    .plot.bar(legend=True, figsize=(10,10), alpha=0.8,\n",
    "              title='усредненная по дням недели выручка в разрезе тиров')\n"
   ],
   "metadata": {
    "collapsed": false,
    "pycharm": {
     "name": "#%%\n",
     "is_executing": false
    }
   }
  },
  {
   "cell_type": "code",
   "execution_count": null,
   "metadata": {
    "pycharm": {
     "is_executing": false,
     "name": "#%%\n"
    }
   },
   "outputs": [],
   "source": [
    "df_with_rares.groupby(['m_user']).count()['income']\\\n",
    "    .plot(kind='barh', figsize=(10,10), title='кол-во записей о работе каждого оператора')"
   ]
  },
  {
   "cell_type": "code",
   "execution_count": null,
   "metadata": {
    "pycharm": {
     "is_executing": false,
     "name": "#%%\n"
    }
   },
   "outputs": [],
   "source": [
    "print(f\"среднее кол-во записей про отдельного оператора: {df_with_rares.groupby(['m_user']).count()['income'].mean():.1f}\")\n",
    "print(f\"медиана кол-ва записей про отдельного оператора: {df_with_rares.groupby(['m_user']).count()['income'].median():.1f}\")"
   ]
  },
  {
   "cell_type": "markdown",
   "metadata": {},
   "source": [
    "средняя выручка в разрезе точек и операторов\n"
   ]
  },
  {
   "cell_type": "code",
   "execution_count": null,
   "metadata": {
    "pycharm": {
     "is_executing": false,
     "name": "#%%\n"
    }
   },
   "outputs": [],
   "source": [
    "users_rating"
   ]
  },
  {
   "cell_type": "code",
   "execution_count": null,
   "metadata": {
    "pycharm": {
     "is_executing": false,
     "name": "#%%\n"
    }
   },
   "outputs": [],
   "source": [
    "users_rating.rating.plot.bar(figsize=(20,10), rot=45,\n",
    "                             color=[ 'dodgerblue' if i>=1.0 else 'tomato' for i in users_rating.rating],\n",
    "                             title='Рейтинг операторов')"
   ]
  },
  {
   "cell_type": "code",
   "execution_count": null,
   "metadata": {
    "pycharm": {
     "is_executing": false,
     "name": "#%%\n"
    }
   },
   "outputs": [],
   "source": [
    "user_periods = pd.DataFrame()\n",
    "user_periods['m_user'] = df['m_user']\n",
    "user_periods['id'] = user_periods['m_user'].cat.codes"
   ]
  },
  {
   "cell_type": "code",
   "execution_count": null,
   "outputs": [],
   "source": [
    "user_periods.groupby(['m_user']).id.plot(figsize=(20,8), legend=True,\n",
    "                                         title='периоды работы операторов')"
   ],
   "metadata": {
    "collapsed": false,
    "pycharm": {
     "name": "#%%\n",
     "is_executing": false
    }
   }
  },
  {
   "cell_type": "code",
   "execution_count": null,
   "outputs": [],
   "source": [
    "df.reset_index().groupby('date').income.sum().resample('W').mean()\\\n",
    "    .plot(figsize=(20,6), title='суммарный доход всех тиров, усредненный по неделям')"
   ],
   "metadata": {
    "collapsed": false,
    "pycharm": {
     "name": "#%%\n",
     "is_executing": false
    }
   }
  },
  {
   "cell_type": "code",
   "execution_count": null,
   "outputs": [],
   "source": [
    "df.groupby('store').income.resample('w').mean().unstack(level=0)\\\n",
    "        .plot(figsize=(20,8), title='усредненный по неделям доход каждого тира + среднее по всем тирам')\n",
    "df.income.resample('w').mean().plot(style=':', legend=True)"
   ],
   "metadata": {
    "collapsed": false,
    "pycharm": {
     "name": "#%%\n",
     "is_executing": false
    }
   }
  },
  {
   "cell_type": "code",
   "execution_count": null,
   "metadata": {
    "pycharm": {
     "is_executing": false,
     "name": "#%%\n"
    }
   },
   "outputs": [],
   "source": [
    "df.groupby(['store', 'm_user'])['income'].median().unstack(level=0)\\\n",
    "    .plot.barh(figsize=(10,10), alpha=0.8, title='медианная выручка каждого оператора в каждом тире')"
   ]
  },
  {
   "cell_type": "code",
   "execution_count": null,
   "outputs": [],
   "source": [
    "df.groupby(['store', 'm_user'])['income'].median().unstack(level=0)\\\n",
    "    .plot.bar(figsize=(20,8), alpha=0.8, rot=45, title='медианная выручка каждого оператора в каждом тире')"
   ],
   "metadata": {
    "collapsed": false,
    "pycharm": {
     "name": "#%%\n",
     "is_executing": false
    }
   }
  },
  {
   "cell_type": "code",
   "execution_count": null,
   "outputs": [],
   "source": [
    "cross_corr = df.corr()"
   ],
   "metadata": {
    "collapsed": false,
    "pycharm": {
     "name": "#%%\n"
    }
   }
  },
  {
   "cell_type": "code",
   "execution_count": null,
   "metadata": {
    "pycharm": {
     "is_executing": false,
     "name": "#%%\n"
    }
   },
   "outputs": [],
   "source": [
    "cross_corr.income.sort_values(ascending=False).iloc[:30]\n",
    "    # .plot(kind='barh', figsize=(10,10), title='топ корреляций с сырым значением дохода:')"
   ]
  },
  {
   "cell_type": "code",
   "execution_count": null,
   "metadata": {
    "pycharm": {
     "is_executing": false,
     "name": "#%%\n"
    }
   },
   "outputs": [],
   "source": []
  },
  {
   "cell_type": "code",
   "execution_count": null,
   "metadata": {
    "pycharm": {
     "is_executing": false,
     "name": "#%%\n"
    }
   },
   "outputs": [],
   "source": [
    "df.groupby(['week_day']).income.mean().plot(kind='bar', title='средний доход по дням')"
   ]
  },
  {
   "cell_type": "code",
   "execution_count": null,
   "metadata": {
    "pycharm": {
     "is_executing": false,
     "name": "#%%\n"
    }
   },
   "outputs": [],
   "source": [
    "df.groupby(['week_day', 'store']).income.mean().unstack(level=1)\\\n",
    "    .plot(kind='bar', figsize=(15,8), alpha=0.8, title='средний доход по дням недели и точкам')"
   ]
  },
  {
   "cell_type": "code",
   "execution_count": null,
   "metadata": {
    "pycharm": {
     "is_executing": false,
     "name": "#%%\n"
    }
   },
   "outputs": [],
   "source": [
    "df.groupby(['week_day', 'store']).income.mean().unstack(level=1).std()\\\n",
    "    .plot(kind='bar',  title='стандартное отклонение дохода между днями недели')"
   ]
  },
  {
   "cell_type": "code",
   "execution_count": null,
   "metadata": {
    "pycharm": {
     "is_executing": false,
     "name": "#%%\n"
    }
   },
   "outputs": [],
   "source": [
    "df.groupby(['week_day', 'store']).income.std().unstack(level=1)\\\n",
    "    .plot(kind='bar', figsize=(20,8), alpha=0.8, title='стандартное отклонение дохода по дням и точкам')\n",
    "\n",
    "\n",
    "\n"
   ]
  },
  {
   "cell_type": "code",
   "execution_count": null,
   "metadata": {
    "pycharm": {
     "name": "#%%\n"
    }
   },
   "outputs": [],
   "source": [
    "\n"
   ]
  }
 ],
 "metadata": {
  "kernelspec": {
   "display_name": "Python 3",
   "language": "python",
   "name": "python3"
  },
  "language_info": {
   "codemirror_mode": {
    "name": "ipython",
    "version": 3
   },
   "file_extension": ".py",
   "mimetype": "text/x-python",
   "name": "python",
   "nbconvert_exporter": "python",
   "pygments_lexer": "ipython3",
   "version": "3.6.8"
  },
  "pycharm": {
   "stem_cell": {
    "cell_type": "raw",
    "source": [],
    "metadata": {
     "collapsed": false
    }
   }
  }
 },
 "nbformat": 4,
 "nbformat_minor": 1
}