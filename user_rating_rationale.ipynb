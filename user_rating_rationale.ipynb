{
 "cells": [
  {
   "cell_type": "code",
   "execution_count": null,
   "metadata": {
    "collapsed": true,
    "pycharm": {
     "is_executing": false
    }
   },
   "outputs": [],
   "source": [
    "import pandas as pd\n",
    "from read_data import df, users_rating\n",
    "%load_ext autoreload\n",
    "%autoreload 2"
   ]
  },
  {
   "cell_type": "code",
   "execution_count": null,
   "outputs": [],
   "source": [
    "by_store_normalization = (df.groupby(['store', 'm_user'])['income'].median() /\n",
    "                    df.groupby(['store']).income.median())\\\n",
    "    .reset_index().groupby(['m_user']).income.median()"
   ],
   "metadata": {
    "collapsed": false,
    "pycharm": {
     "name": "#%%\n",
     "is_executing": false
    }
   }
  },
  {
   "cell_type": "code",
   "execution_count": null,
   "outputs": [],
   "source": [
    "by_week_day_normalization = (df.groupby(['week_day', 'm_user'])['income'].median() /\n",
    "                    df.groupby(['week_day']).income.median())\\\n",
    "    .reset_index().groupby(['m_user']).income.median()"
   ],
   "metadata": {
    "collapsed": false,
    "pycharm": {
     "name": "#%%\n",
     "is_executing": false
    }
   }
  },
  {
   "cell_type": "code",
   "execution_count": null,
   "outputs": [],
   "source": [
    "by_month_normalization = (df.groupby(['month', 'm_user'])['income'].median() /\n",
    "                    df.groupby(['month']).income.median())\\\n",
    "    .reset_index().groupby(['m_user']).income.median()\n"
   ],
   "metadata": {
    "collapsed": false,
    "pycharm": {
     "name": "#%%\n",
     "is_executing": false
    }
   }
  },
  {
   "cell_type": "code",
   "execution_count": null,
   "outputs": [],
   "source": [
    "by_store_week_day_normalization = (df.groupby(['week_day', 'store', 'm_user']).income.median() /\n",
    "        df.groupby(['week_day', 'store']).income.median())\\\n",
    "        .reset_index().groupby(['m_user']).income.median()\n"
   ],
   "metadata": {
    "collapsed": false,
    "pycharm": {
     "name": "#%%\n",
     "is_executing": false
    }
   }
  },
  {
   "cell_type": "code",
   "execution_count": null,
   "outputs": [],
   "source": [
    "final_rating = (by_store_normalization + by_week_day_normalization + by_month_normalization) / 3\n",
    "final_rating.sort_values(ascending=False, inplace=True)"
   ],
   "metadata": {
    "collapsed": false,
    "pycharm": {
     "name": "#%%\n",
     "is_executing": false
    }
   }
  },
  {
   "cell_type": "code",
   "execution_count": null,
   "outputs": [],
   "source": [
    "rating_compare = pd.concat([by_store_normalization, by_week_day_normalization,\n",
    "                            by_month_normalization, final_rating], axis=1)\n",
    "rating_compare.columns = ['by_store_normalization','by_week_day_normalization',\n",
    "                          'by_month_normalization', 'final_rating']\n",
    "# rating_compare.sort_values(by='final_rating', ascending=False, inplace=True)\n",
    "rating_compare.plot.bar(figsize=(10,5), alpha=0.7, \n",
    "                        title='влияние различных компонентов на рейтинг оператора')"
   ],
   "metadata": {
    "collapsed": false,
    "pycharm": {
     "name": "#%%\n",
     "is_executing": false
    }
   }
  },
  {
   "cell_type": "code",
   "execution_count": null,
   "outputs": [],
   "source": [
    "final_rating = by_store_week_day_normalization * by_month_normalization\n",
    "final_rating.sort_values(ascending=False, inplace=True)\n"
   ],
   "metadata": {
    "collapsed": false,
    "pycharm": {
     "name": "#%%\n",
     "is_executing": false
    }
   }
  },
  {
   "cell_type": "code",
   "execution_count": null,
   "outputs": [],
   "source": [
    "rating_compare = pd.concat([by_store_normalization, by_week_day_normalization,\n",
    "                            by_month_normalization, final_rating], axis=1)\n",
    "rating_compare.columns = ['by_store_normalization','by_week_day_normalization',\n",
    "                          'by_month_normalization', 'final_rating']\n",
    "# rating_compare.sort_values(by='final_rating', ascending=False, inplace=True)\n",
    "rating_compare.plot.bar(figsize=(10,5), alpha=0.7, \n",
    "                        title='влияние различных компонентов на рейтинг оператора')"
   ],
   "metadata": {
    "collapsed": false,
    "pycharm": {
     "name": "#%%\n",
     "is_executing": false
    }
   }
  },
  {
   "cell_type": "code",
   "execution_count": null,
   "outputs": [],
   "source": [
    "# проверка корректности подсчёта рейтинга на этом листе:\n",
    "# значения в столбцах должны быть одинаковы\n",
    "pd.concat([users_rating, final_rating], axis=1)"
   ],
   "metadata": {
    "collapsed": false,
    "pycharm": {
     "name": "#%%\n",
     "is_executing": false
    }
   }
  },
  {
   "cell_type": "code",
   "execution_count": null,
   "outputs": [],
   "source": [
    "users_rating.rating.sort_values(ascending=False)"
   ],
   "metadata": {
    "collapsed": false,
    "pycharm": {
     "name": "#%%\n",
     "is_executing": false
    }
   }
  },
  {
   "cell_type": "code",
   "execution_count": null,
   "outputs": [],
   "source": [
    "final_rating.sort_values(ascending=False)\n"
   ],
   "metadata": {
    "collapsed": false,
    "pycharm": {
     "name": "#%%\n",
     "is_executing": false
    }
   }
  },
  {
   "cell_type": "code",
   "execution_count": null,
   "outputs": [],
   "source": [
    "pd.concat([by_store_week_day_normalization, \n",
    "           by_store_normalization * by_week_day_normalization, \n",
    "           (by_store_normalization + by_week_day_normalization)/2], \n",
    "          axis=1)"
   ],
   "metadata": {
    "collapsed": false,
    "pycharm": {
     "name": "#%%\n",
     "is_executing": false
    }
   }
  },
  {
   "cell_type": "code",
   "execution_count": null,
   "outputs": [],
   "source": [
    "df.groupby(['week_day', 'store', 'month']).income.count()"
   ],
   "metadata": {
    "collapsed": false,
    "pycharm": {
     "name": "#%%\n",
     "is_executing": false
    }
   }
  },
  {
   "cell_type": "code",
   "execution_count": null,
   "outputs": [],
   "source": [
    "df.groupby(['store']).income.count()\n",
    "\n"
   ],
   "metadata": {
    "collapsed": false,
    "pycharm": {
     "name": "#%%\n",
     "is_executing": false
    }
   }
  }
 ],
 "metadata": {
  "kernelspec": {
   "display_name": "Python 3",
   "language": "python",
   "name": "python3"
  },
  "language_info": {
   "codemirror_mode": {
    "name": "ipython",
    "version": 2
   },
   "file_extension": ".py",
   "mimetype": "text/x-python",
   "name": "python",
   "nbconvert_exporter": "python",
   "pygments_lexer": "ipython2",
   "version": "2.7.6"
  },
  "pycharm": {
   "stem_cell": {
    "cell_type": "raw",
    "source": [],
    "metadata": {
     "collapsed": false
    }
   }
  }
 },
 "nbformat": 4,
 "nbformat_minor": 0
}