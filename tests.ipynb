{
 "cells": [
  {
   "cell_type": "code",
   "execution_count": 1,
   "metadata": {
    "collapsed": true,
    "pycharm": {
     "is_executing": false
    }
   },
   "outputs": [],
   "source": [
    "%%time\n",
    "import pandas as pd\n",
    "import matplotlib.pyplot as plt\n",
    "from read_data import df\n",
    "%load_ext autoreload\n",
    "%autoreload 2"
   ]
  },
  {
   "cell_type": "code",
   "execution_count": 2,
   "outputs": [],
   "source": [
    "# df = df[:5] # short version for test\n",
    "df"
   ],
   "metadata": {
    "collapsed": false,
    "pycharm": {
     "name": "#%%\n",
     "is_executing": false
    }
   }
  },
  {
   "cell_type": "markdown",
   "source": [
    "убираем сложные поля утреннего и вечернего отчета, переименовываем вложенные поля, добиваемся плоской структуры данных"
   ],
   "metadata": {
    "collapsed": false,
    "pycharm": {
     "name": "#%% md\n"
    }
   }
  },
  {
   "cell_type": "code",
   "execution_count": 3,
   "outputs": [],
   "source": [
    "%%time\n",
    "dfm = df['morning'].apply(pd.Series)\n",
    "dfe = df['evening'].apply(pd.Series)\n",
    "dfm.columns = 'm_' + dfm.columns\n",
    "dfe.columns = 'e_' + dfe.columns\n",
    "\n",
    "df = pd.concat([df.drop(['morning', 'evening'], axis=1),dfm, dfe], axis=1)\n",
    "print(df.shape)\n",
    "# df"
   ],
   "metadata": {
    "collapsed": false,
    "pycharm": {
     "name": "#%%\n",
     "is_executing": false
    }
   }
  },
  {
   "cell_type": "code",
   "execution_count": 4,
   "outputs": [],
   "source": [
    "df.dropna\n",
    "print(df.shape)"
   ],
   "metadata": {
    "collapsed": false,
    "pycharm": {
     "name": "#%%\n",
     "is_executing": false
    }
   }
  },
  {
   "cell_type": "code",
   "execution_count": 5,
   "outputs": [],
   "source": [
    "df.dtypes"
   ],
   "metadata": {
    "collapsed": false,
    "pycharm": {
     "name": "#%%\n",
     "is_executing": false
    }
   }
  },
  {
   "cell_type": "markdown",
   "source": [
    "добавляем дополнительные столбцы с необходимыми данными"
   ],
   "metadata": {
    "collapsed": false,
    "pycharm": {
     "name": "#%% md\n"
    }
   }
  },
  {
   "cell_type": "code",
   "execution_count": 6,
   "outputs": [],
   "source": [
    "%%time\n",
    "df['income'] = df['e_cash']+df['e_cashless']\n",
    "df['date'] = pd.to_datetime(df.year*10000+df.month*100+df.day,format='%Y%m%d')"
   ],
   "metadata": {
    "collapsed": false,
    "pycharm": {
     "name": "#%%\n",
     "is_executing": false
    }
   }
  },
  {
   "cell_type": "code",
   "execution_count": 7,
   "outputs": [],
   "source": [
    "%%time\n",
    "df = df.set_index(['date'])"
   ],
   "metadata": {
    "collapsed": false,
    "pycharm": {
     "name": "#%%\n",
     "is_executing": false
    }
   }
  },
  {
   "cell_type": "code",
   "execution_count": 8,
   "outputs": [],
   "source": [
    "import numpy as np\n",
    "print(np.sort(df.m_user.unique()))\n",
    "print(len(df.m_user.unique()))"
   ],
   "metadata": {
    "collapsed": false,
    "pycharm": {
     "name": "#%%\n",
     "is_executing": false
    }
   }
  },
  {
   "cell_type": "code",
   "execution_count": 9,
   "outputs": [],
   "source": [
    "df.m_user = df.m_user.str.strip().str.title()\n",
    "for i in np.sort(df.m_user.unique()):\n",
    "    print(i)\n",
    "print(len(df.m_user.unique()))\n"
   ],
   "metadata": {
    "collapsed": false,
    "pycharm": {
     "name": "#%%\n",
     "is_executing": false
    }
   }
  },
  {
   "cell_type": "code",
   "execution_count": 10,
   "outputs": [],
   "source": [
    "%%time\n",
    "# based on stackoverflow patricksurry answer https://stackoverflow.com/a/27802006\n",
    "# grouped = (df\n",
    "#     .groupby('store')                \n",
    "#     .apply(lambda g:              \n",
    "#         g[['income']]\n",
    "#         .resample('W').mean()  # change resample argument\n",
    "#         )\n",
    "#     .unstack(level=0)  # pivot the store index rows to columns\n",
    "#     # .fillna(0)\n",
    "# )\n",
    "# grouped.columns=grouped.columns.droplevel()\n",
    "# grouped.plot(figsize=(10,10), title='усредненная по неделям выручка в разрезе тиров')\n"
   ],
   "metadata": {
    "collapsed": false,
    "pycharm": {
     "name": "#%%\n",
     "is_executing": false
    }
   }
  },
  {
   "cell_type": "code",
   "execution_count": 70,
   "outputs": [],
   "source": [
    "%%time\n",
    "df.groupby(['store']).resample('W').mean()['income'].unstack(level=0)\\\n",
    "    .plot(legend=True, figsize=(10,10), title='усредненная по неделям выручка в разрезе тиров')"
   ],
   "metadata": {
    "collapsed": false,
    "pycharm": {
     "name": "#%%\n",
     "is_executing": false
    }
   }
  },
  {
   "cell_type": "code",
   "execution_count": 46,
   "outputs": [],
   "source": [
    "%%time\n",
    "df[(df.m_user == 'Юля') | (df.m_user == 'Юля Халикова')]\\\n",
    "    .groupby(['m_user'])['income']\\\n",
    "    .plot(legend=True, figsize=(10,10), title='tests', style='o-')\n"
   ],
   "metadata": {
    "collapsed": false,
    "pycharm": {
     "name": "#%%\n",
     "is_executing": false
    }
   }
  },
  {
   "cell_type": "code",
   "execution_count": 12,
   "outputs": [],
   "source": [
    "%%time\n",
    "df.groupby(['m_user']).resample('W').mean()['income'].unstack(level=0)\\\n",
    "    .plot(legend=True, figsize=(10,10), title='усредненная по неделям выручка в разрезе операторов')"
   ],
   "metadata": {
    "collapsed": false,
    "pycharm": {
     "name": "#%%\n",
     "is_executing": false
    }
   }
  },
  {
   "cell_type": "code",
   "execution_count": 18,
   "outputs": [],
   "source": [
    "%%time\n",
    "df.groupby(['m_user']).count()['income']\\\n",
    "    .plot(kind='bar', figsize=(10,10), title='кол-во записей о работе каждого оператора')"
   ],
   "metadata": {
    "collapsed": false,
    "pycharm": {
     "name": "#%%\n",
     "is_executing": false
    }
   }
  },
  {
   "cell_type": "code",
   "execution_count": 24,
   "outputs": [],
   "source": [
    "%%time\n",
    "print(f\"среднее кол-во записей про отдельного оператора: {df.groupby(['m_user']).count()['income'].mean():.1f}\")\n",
    "print(f\"медиана кол-ва записей про отдельного оператора: {df.groupby(['m_user']).count()['income'].median():.1f}\")"
   ],
   "metadata": {
    "collapsed": false,
    "pycharm": {
     "name": "#%%\n",
     "is_executing": false
    }
   }
  },
  {
   "cell_type": "markdown",
   "source": [
    "средняя выручка в разрезе точек и операторов"
   ],
   "metadata": {
    "collapsed": false
   }
  },
  {
   "cell_type": "code",
   "execution_count": 87,
   "outputs": [],
   "source": [
    "df.groupby(['store', 'm_user'])['income'].mean()\n",
    "\n",
    "\n",
    "\n"
   ],
   "metadata": {
    "collapsed": false,
    "pycharm": {
     "name": "#%%\n",
     "is_executing": false
    }
   }
  }
 ],
 "metadata": {
  "kernelspec": {
   "display_name": "Python 3",
   "language": "python",
   "name": "python3"
  },
  "language_info": {
   "codemirror_mode": {
    "name": "ipython",
    "version": 2
   },
   "file_extension": ".py",
   "mimetype": "text/x-python",
   "name": "python",
   "nbconvert_exporter": "python",
   "pygments_lexer": "ipython2",
   "version": "2.7.6"
  },
  "pycharm": {
   "stem_cell": {
    "cell_type": "raw",
    "source": [],
    "metadata": {
     "collapsed": false
    }
   }
  }
 },
 "nbformat": 4,
 "nbformat_minor": 0
}