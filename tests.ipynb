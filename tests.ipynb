{
 "cells": [
  {
   "cell_type": "code",
   "execution_count": 208,
   "metadata": {
    "collapsed": true,
    "pycharm": {
     "is_executing": false
    }
   },
   "outputs": [],
   "source": [
    "import pandas as pd\n",
    "import json, io\n",
    "import matplotlib.pyplot as plt"
   ]
  },
  {
   "cell_type": "code",
   "execution_count": 2,
   "outputs": [],
   "source": [
    "filename = \"data_file.json\""
   ],
   "metadata": {
    "collapsed": false,
    "pycharm": {
     "name": "#%%\n",
     "is_executing": false
    }
   }
  },
  {
   "cell_type": "code",
   "execution_count": 6,
   "outputs": [],
   "source": [
    "# df = pd.read_json(filename, encoding='utf-8')\n",
    "\n"
   ],
   "metadata": {
    "collapsed": false,
    "pycharm": {
     "name": "#%%\n",
     "is_executing": false
    }
   }
  },
  {
   "cell_type": "code",
   "source": [
    "with io.open(filename, encoding='utf-8') as raw_json:\n",
    "    decoded_json = json.loads(raw_json.read())\n",
    "df = pd.io.json.json_normalize(decoded_json)\n",
    "df.columns = df.columns.str.strip().str.replace(' ', '_').str.replace('.', '_')\\\n",
    "    .str.replace('morning_', 'm_').str.replace('evening_', 'e_')\n",
    "print(df.columns)\n",
    "print(df.shape)\n",
    "print(len(df.index))"
   ],
   "metadata": {
    "collapsed": false,
    "pycharm": {
     "name": "#%%\n",
     "is_executing": false
    }
   },
   "execution_count": 207,
   "outputs": [
    {
     "name": "stdout",
     "text": [
      "Index(['day', 'month', 'year', 'store', 'm_date_time_str', 'm_user',\n       'm_small_toys', 'm_medium_toys', 'm_big_toys', 'm_exchange', 'm_bolls',\n       'm_sticks', 'm_sockets', 'm_pellet', 'm_candis', 'm_envelope',\n       'm_reports', 'm_comment', 'm_ok_guns', 'm_bed_guns', 'm_mood',\n       'm_power_reserve', 'm_plan', 'm_0', 'm_set', 'e_date_time_str',\n       'e_user', 'e_small_toys_up', 'e_medium_toys_up', 'e_big_toys_up',\n       'e_small_toys_down', 'e_medium_toys_down', 'e_big_toys_down',\n       'e_small_toys', 'e_medium_toys', 'e_big_toys', 'e_exchange', 'e_cash',\n       'e_cashless', 'e_collection_spending', 'e_prepayment', 'e_balance',\n       'e_ok_guns', 'e_bed_guns', 'e_comment', 'e_are_you_good',\n       'e_is_it_a_good_day', 'e_small_toys_win', 'e_medium_toys_win',\n       'e_big_toys_wit'],\n      dtype='object')\n(772, 50)\n772\n"
     ],
     "output_type": "stream"
    }
   ]
  },
  {
   "cell_type": "code",
   "execution_count": 209,
   "outputs": [
    {
     "name": "stdout",
     "text": [
      "(772, 50)\n"
     ],
     "output_type": "stream"
    }
   ],
   "source": [
    "df.dropna\n",
    "print(df.shape)"
   ],
   "metadata": {
    "collapsed": false,
    "pycharm": {
     "name": "#%%\n",
     "is_executing": false
    }
   }
  },
  {
   "cell_type": "code",
   "execution_count": 213,
   "outputs": [
    {
     "data": {
      "text/plain": "day                       int32\nmonth                     int32\nyear                      int32\nstore                    object\nm_date_time_str          object\nm_user                   object\nm_small_toys             object\nm_medium_toys            object\nm_big_toys               object\nm_exchange               object\nm_bolls                  object\nm_sticks                 object\nm_sockets                object\nm_pellet                 object\nm_candis                 object\nm_envelope               object\nm_reports                object\nm_comment                object\nm_ok_guns                object\nm_bed_guns               object\nm_mood                   object\nm_power_reserve          object\nm_plan                   object\nm_0                      object\nm_set                    object\ne_date_time_str          object\ne_user                   object\ne_small_toys_up          object\ne_medium_toys_up         object\ne_big_toys_up            object\ne_small_toys_down        object\ne_medium_toys_down       object\ne_big_toys_down          object\ne_small_toys             object\ne_medium_toys            object\ne_big_toys               object\ne_exchange               object\ne_cash                   object\ne_cashless               object\ne_collection_spending    object\ne_prepayment             object\ne_balance                object\ne_ok_guns                object\ne_bed_guns               object\ne_comment                object\ne_are_you_good           object\ne_is_it_a_good_day       object\ne_small_toys_win         object\ne_medium_toys_win        object\ne_big_toys_wit           object\ndtype: object"
     },
     "metadata": {},
     "output_type": "execute_result",
     "execution_count": 213
    }
   ],
   "source": [
    "df.dtypes"
   ],
   "metadata": {
    "collapsed": false,
    "pycharm": {
     "name": "#%%\n",
     "is_executing": false
    }
   }
  },
  {
   "cell_type": "code",
   "execution_count": 184,
   "outputs": [
    {
     "data": {
      "text/plain": "0         Виктория Новикова\n1      Анастасия Черкасова \n2           Адиля  Галиева \n3           Садреева Эльза \n4         Виктория Новикова\n               ...         \n767       Юлдуз Бекмуратова\n768       Раиса Загидуллина\n769      Ибрагимов Ринальд \n770      Виктория Новикова \n771      Ринальд ибрагимов \nName: m_user, Length: 772, dtype: object"
     },
     "metadata": {},
     "output_type": "execute_result",
     "execution_count": 184
    }
   ],
   "source": [
    "col='m_user'\n",
    "df[col].astype(str).str.strip('[]\\'')"
   ],
   "metadata": {
    "collapsed": false,
    "pycharm": {
     "name": "#%%\n",
     "is_executing": false
    }
   }
  },
  {
   "cell_type": "code",
   "execution_count": 212,
   "outputs": [
    {
     "data": {
      "text/plain": "     day  month  year       store      m_date_time_str                m_user  \\\n0      3      4  2019   Парк Хаус  03.04.2019 12:43:47     Виктория Новикова   \n1      3      4  2019     Ривьера  03.04.2019 18:23:27  Анастасия Черкасова    \n2      3      4  2019  Сити Центр  03.04.2019 18:36:43       Адиля  Галиева    \n3      3      4  2019  СуварПлаза  03.04.2019 13:35:26       Садреева Эльза    \n4      4      4  2019   Парк Хаус  04.04.2019 10:46:25     Виктория Новикова   \n..   ...    ...   ...         ...                  ...                   ...   \n767    2      1  2020     Ривьера  02.01.2020 12:23:25     Юлдуз Бекмуратова   \n768    3      1  2020   Парк Хаус  03.01.2020 23:09:12     Раиса Загидуллина   \n769    3      1  2020     Ривьера  03.01.2020 10:29:04    Ибрагимов Ринальд    \n770    4      1  2020   Парк Хаус  04.01.2020 12:52:24    Виктория Новикова    \n771    4      1  2020     Ривьера  04.01.2020 11:43:48    Ринальд ибрагимов    \n\n    m_small_toys m_medium_toys m_big_toys m_exchange  ... e_prepayment  \\\n0             11            43         10        950  ...          600   \n1              0            19          6       1050  ...          650   \n2             20            49          6        650  ...          600   \n3              2            40          6        900  ...            0   \n4              7            43         10       1026  ...          600   \n..           ...           ...        ...        ...  ...          ...   \n767           23            13         24       4250  ...         2800   \n768            0            13         29       1350  ...          600   \n769           17             8         23       1600  ...         1000   \n770            1             9         32       1700  ...          nan   \n771            8             7         17        900  ...          nan   \n\n    e_balance                                          e_ok_guns  \\\n0        2000  АК 47 черный', 'М-4 укороченный', 'G-36 черный...   \n1           0  , '', '', '', 'М-4 укороченный', '', '', '', '',    \n2           0  АК 47 в дереве', 'М-4 укороченный', '', '', ''...   \n3         300            M-16', '', '', '', '', '', '', '', '',    \n4        3000  АК 47 черный', 'М-4 укороченный', 'G-36 черный...   \n..        ...                                                ...   \n767      6000  G-36 черный', '', '', '', '', '', '', '', '', ...   \n768     12400  АК 47 в дереве', 'АК 47 черный', 'M-4A1', '', ...   \n769      7900  G-36 черный', '', '', '', '', '', '', '', '', ...   \n770       nan                                                nan   \n771       nan                                                nan   \n\n                                            e_bed_guns  \\\n0                   , '', '', '', '', '', '', '', '',    \n1                   , '', '', '', '', '', '', '', '',    \n2                   , '', '', '', '', '', '', '', '',    \n3                   , '', '', '', '', '', '', '', '',    \n4                   , '', '', '', '', '', '', '', '',    \n..                                                 ...   \n767            M-16', '', '', '', '', '', '', '', '',    \n768                 , '', '', '', '', '', '', '', '',    \n769  АК 47 черный', 'M-4A1', '', '', '', '', '', ''...   \n770                                                nan   \n771                                                nan   \n\n                                             e_comment e_are_you_good  \\\n0                                                                   5   \n1                                                                   1   \n2            из выручки 150р нал,добавила их в размен.              1   \n3                                                                   1   \n4               сделала выручку, как и хотела,я рада))              5   \n..                                                 ...            ...   \n767  Такси:100р оружие,\\n100п пульки,\\n350 скотч.\\n...              5   \n768                                                                 5   \n769  Может быть пересчёт на 150рублей была отмена н...              5   \n770                                                nan            nan   \n771                                                nan            nan   \n\n    e_is_it_a_good_day e_small_toys_win e_medium_toys_win e_big_toys_wit  \n0                    3                                                    \n1                    2                                                    \n2                    1                                                    \n3                    1                                                    \n4                    5                                                    \n..                 ...              ...               ...            ...  \n767                  4                5                 2              3  \n768                  5                0                 1              0  \n769                  5                1                 1              1  \n770                nan              nan               nan            nan  \n771                nan              nan               nan            nan  \n\n[772 rows x 50 columns]",
      "text/html": "<div>\n<style scoped>\n    .dataframe tbody tr th:only-of-type {\n        vertical-align: middle;\n    }\n\n    .dataframe tbody tr th {\n        vertical-align: top;\n    }\n\n    .dataframe thead th {\n        text-align: right;\n    }\n</style>\n<table border=\"1\" class=\"dataframe\">\n  <thead>\n    <tr style=\"text-align: right;\">\n      <th></th>\n      <th>day</th>\n      <th>month</th>\n      <th>year</th>\n      <th>store</th>\n      <th>m_date_time_str</th>\n      <th>m_user</th>\n      <th>m_small_toys</th>\n      <th>m_medium_toys</th>\n      <th>m_big_toys</th>\n      <th>m_exchange</th>\n      <th>...</th>\n      <th>e_prepayment</th>\n      <th>e_balance</th>\n      <th>e_ok_guns</th>\n      <th>e_bed_guns</th>\n      <th>e_comment</th>\n      <th>e_are_you_good</th>\n      <th>e_is_it_a_good_day</th>\n      <th>e_small_toys_win</th>\n      <th>e_medium_toys_win</th>\n      <th>e_big_toys_wit</th>\n    </tr>\n  </thead>\n  <tbody>\n    <tr>\n      <th>0</th>\n      <td>3</td>\n      <td>4</td>\n      <td>2019</td>\n      <td>Парк Хаус</td>\n      <td>03.04.2019 12:43:47</td>\n      <td>Виктория Новикова</td>\n      <td>11</td>\n      <td>43</td>\n      <td>10</td>\n      <td>950</td>\n      <td>...</td>\n      <td>600</td>\n      <td>2000</td>\n      <td>АК 47 черный', 'М-4 укороченный', 'G-36 черный...</td>\n      <td>, '', '', '', '', '', '', '', '',</td>\n      <td></td>\n      <td>5</td>\n      <td>3</td>\n      <td></td>\n      <td></td>\n      <td></td>\n    </tr>\n    <tr>\n      <th>1</th>\n      <td>3</td>\n      <td>4</td>\n      <td>2019</td>\n      <td>Ривьера</td>\n      <td>03.04.2019 18:23:27</td>\n      <td>Анастасия Черкасова</td>\n      <td>0</td>\n      <td>19</td>\n      <td>6</td>\n      <td>1050</td>\n      <td>...</td>\n      <td>650</td>\n      <td>0</td>\n      <td>, '', '', '', 'М-4 укороченный', '', '', '', '',</td>\n      <td>, '', '', '', '', '', '', '', '',</td>\n      <td></td>\n      <td>1</td>\n      <td>2</td>\n      <td></td>\n      <td></td>\n      <td></td>\n    </tr>\n    <tr>\n      <th>2</th>\n      <td>3</td>\n      <td>4</td>\n      <td>2019</td>\n      <td>Сити Центр</td>\n      <td>03.04.2019 18:36:43</td>\n      <td>Адиля  Галиева</td>\n      <td>20</td>\n      <td>49</td>\n      <td>6</td>\n      <td>650</td>\n      <td>...</td>\n      <td>600</td>\n      <td>0</td>\n      <td>АК 47 в дереве', 'М-4 укороченный', '', '', ''...</td>\n      <td>, '', '', '', '', '', '', '', '',</td>\n      <td>из выручки 150р нал,добавила их в размен.</td>\n      <td>1</td>\n      <td>1</td>\n      <td></td>\n      <td></td>\n      <td></td>\n    </tr>\n    <tr>\n      <th>3</th>\n      <td>3</td>\n      <td>4</td>\n      <td>2019</td>\n      <td>СуварПлаза</td>\n      <td>03.04.2019 13:35:26</td>\n      <td>Садреева Эльза</td>\n      <td>2</td>\n      <td>40</td>\n      <td>6</td>\n      <td>900</td>\n      <td>...</td>\n      <td>0</td>\n      <td>300</td>\n      <td>M-16', '', '', '', '', '', '', '', '',</td>\n      <td>, '', '', '', '', '', '', '', '',</td>\n      <td></td>\n      <td>1</td>\n      <td>1</td>\n      <td></td>\n      <td></td>\n      <td></td>\n    </tr>\n    <tr>\n      <th>4</th>\n      <td>4</td>\n      <td>4</td>\n      <td>2019</td>\n      <td>Парк Хаус</td>\n      <td>04.04.2019 10:46:25</td>\n      <td>Виктория Новикова</td>\n      <td>7</td>\n      <td>43</td>\n      <td>10</td>\n      <td>1026</td>\n      <td>...</td>\n      <td>600</td>\n      <td>3000</td>\n      <td>АК 47 черный', 'М-4 укороченный', 'G-36 черный...</td>\n      <td>, '', '', '', '', '', '', '', '',</td>\n      <td>сделала выручку, как и хотела,я рада))</td>\n      <td>5</td>\n      <td>5</td>\n      <td></td>\n      <td></td>\n      <td></td>\n    </tr>\n    <tr>\n      <th>...</th>\n      <td>...</td>\n      <td>...</td>\n      <td>...</td>\n      <td>...</td>\n      <td>...</td>\n      <td>...</td>\n      <td>...</td>\n      <td>...</td>\n      <td>...</td>\n      <td>...</td>\n      <td>...</td>\n      <td>...</td>\n      <td>...</td>\n      <td>...</td>\n      <td>...</td>\n      <td>...</td>\n      <td>...</td>\n      <td>...</td>\n      <td>...</td>\n      <td>...</td>\n      <td>...</td>\n    </tr>\n    <tr>\n      <th>767</th>\n      <td>2</td>\n      <td>1</td>\n      <td>2020</td>\n      <td>Ривьера</td>\n      <td>02.01.2020 12:23:25</td>\n      <td>Юлдуз Бекмуратова</td>\n      <td>23</td>\n      <td>13</td>\n      <td>24</td>\n      <td>4250</td>\n      <td>...</td>\n      <td>2800</td>\n      <td>6000</td>\n      <td>G-36 черный', '', '', '', '', '', '', '', '', ...</td>\n      <td>M-16', '', '', '', '', '', '', '', '',</td>\n      <td>Такси:100р оружие,\\n100п пульки,\\n350 скотч.\\n...</td>\n      <td>5</td>\n      <td>4</td>\n      <td>5</td>\n      <td>2</td>\n      <td>3</td>\n    </tr>\n    <tr>\n      <th>768</th>\n      <td>3</td>\n      <td>1</td>\n      <td>2020</td>\n      <td>Парк Хаус</td>\n      <td>03.01.2020 23:09:12</td>\n      <td>Раиса Загидуллина</td>\n      <td>0</td>\n      <td>13</td>\n      <td>29</td>\n      <td>1350</td>\n      <td>...</td>\n      <td>600</td>\n      <td>12400</td>\n      <td>АК 47 в дереве', 'АК 47 черный', 'M-4A1', '', ...</td>\n      <td>, '', '', '', '', '', '', '', '',</td>\n      <td></td>\n      <td>5</td>\n      <td>5</td>\n      <td>0</td>\n      <td>1</td>\n      <td>0</td>\n    </tr>\n    <tr>\n      <th>769</th>\n      <td>3</td>\n      <td>1</td>\n      <td>2020</td>\n      <td>Ривьера</td>\n      <td>03.01.2020 10:29:04</td>\n      <td>Ибрагимов Ринальд</td>\n      <td>17</td>\n      <td>8</td>\n      <td>23</td>\n      <td>1600</td>\n      <td>...</td>\n      <td>1000</td>\n      <td>7900</td>\n      <td>G-36 черный', '', '', '', '', '', '', '', '', ...</td>\n      <td>АК 47 черный', 'M-4A1', '', '', '', '', '', ''...</td>\n      <td>Может быть пересчёт на 150рублей была отмена н...</td>\n      <td>5</td>\n      <td>5</td>\n      <td>1</td>\n      <td>1</td>\n      <td>1</td>\n    </tr>\n    <tr>\n      <th>770</th>\n      <td>4</td>\n      <td>1</td>\n      <td>2020</td>\n      <td>Парк Хаус</td>\n      <td>04.01.2020 12:52:24</td>\n      <td>Виктория Новикова</td>\n      <td>1</td>\n      <td>9</td>\n      <td>32</td>\n      <td>1700</td>\n      <td>...</td>\n      <td>nan</td>\n      <td>nan</td>\n      <td>nan</td>\n      <td>nan</td>\n      <td>nan</td>\n      <td>nan</td>\n      <td>nan</td>\n      <td>nan</td>\n      <td>nan</td>\n      <td>nan</td>\n    </tr>\n    <tr>\n      <th>771</th>\n      <td>4</td>\n      <td>1</td>\n      <td>2020</td>\n      <td>Ривьера</td>\n      <td>04.01.2020 11:43:48</td>\n      <td>Ринальд ибрагимов</td>\n      <td>8</td>\n      <td>7</td>\n      <td>17</td>\n      <td>900</td>\n      <td>...</td>\n      <td>nan</td>\n      <td>nan</td>\n      <td>nan</td>\n      <td>nan</td>\n      <td>nan</td>\n      <td>nan</td>\n      <td>nan</td>\n      <td>nan</td>\n      <td>nan</td>\n      <td>nan</td>\n    </tr>\n  </tbody>\n</table>\n<p>772 rows × 50 columns</p>\n</div>"
     },
     "metadata": {},
     "output_type": "execute_result",
     "execution_count": 212
    }
   ],
   "source": [
    "for col in df.columns:\n",
    "    df[col] = df[col].astype(str).str.strip('[]\\'')\n",
    "    df[col] = df[col].astype(int, errors='ignore')\n",
    "    \n",
    "df"
   ],
   "metadata": {
    "collapsed": false,
    "pycharm": {
     "name": "#%%\n",
     "is_executing": false
    }
   }
  },
  {
   "cell_type": "code",
   "execution_count": 210,
   "outputs": [
    {
     "data": {
      "text/plain": "['11']"
     },
     "metadata": {},
     "output_type": "execute_result",
     "execution_count": 210
    }
   ],
   "source": [
    "type(df.loc[[0],'m_small_toys'][0])\n",
    "df.loc[[0],'m_small_toys'][0]"
   ],
   "metadata": {
    "collapsed": false,
    "pycharm": {
     "name": "#%%\n",
     "is_executing": false
    }
   }
  },
  {
   "cell_type": "code",
   "execution_count": 214,
   "outputs": [
    {
     "traceback": [
      "\u001b[1;31m---------------------------------------------------------------------------\u001b[0m",
      "\u001b[1;31mValueError\u001b[0m                                Traceback (most recent call last)",
      "\u001b[1;32m<ipython-input-214-3c2e9cf2ae44>\u001b[0m in \u001b[0;36m<module>\u001b[1;34m\u001b[0m\n\u001b[0;32m      1\u001b[0m \u001b[0mcol\u001b[0m \u001b[1;33m=\u001b[0m \u001b[1;34m'm_small_toys'\u001b[0m\u001b[1;33m\u001b[0m\u001b[1;33m\u001b[0m\u001b[0m\n\u001b[1;32m----> 2\u001b[1;33m \u001b[0mdf\u001b[0m\u001b[1;33m[\u001b[0m\u001b[0mcol\u001b[0m\u001b[1;33m]\u001b[0m \u001b[1;33m=\u001b[0m \u001b[0mdf\u001b[0m\u001b[1;33m[\u001b[0m\u001b[0mcol\u001b[0m\u001b[1;33m]\u001b[0m\u001b[1;33m.\u001b[0m\u001b[0mastype\u001b[0m\u001b[1;33m(\u001b[0m\u001b[0mint\u001b[0m\u001b[1;33m)\u001b[0m\u001b[1;33m\u001b[0m\u001b[1;33m\u001b[0m\u001b[0m\n\u001b[0m\u001b[0;32m      3\u001b[0m \u001b[1;33m\u001b[0m\u001b[0m\n",
      "\u001b[1;32m~\\Miniconda3\\envs\\dlcourse_ai\\lib\\site-packages\\pandas\\core\\generic.py\u001b[0m in \u001b[0;36mastype\u001b[1;34m(self, dtype, copy, errors, **kwargs)\u001b[0m\n\u001b[0;32m   5880\u001b[0m             \u001b[1;31m# else, only a single dtype is given\u001b[0m\u001b[1;33m\u001b[0m\u001b[1;33m\u001b[0m\u001b[1;33m\u001b[0m\u001b[0m\n\u001b[0;32m   5881\u001b[0m             new_data = self._data.astype(\n\u001b[1;32m-> 5882\u001b[1;33m                 \u001b[0mdtype\u001b[0m\u001b[1;33m=\u001b[0m\u001b[0mdtype\u001b[0m\u001b[1;33m,\u001b[0m \u001b[0mcopy\u001b[0m\u001b[1;33m=\u001b[0m\u001b[0mcopy\u001b[0m\u001b[1;33m,\u001b[0m \u001b[0merrors\u001b[0m\u001b[1;33m=\u001b[0m\u001b[0merrors\u001b[0m\u001b[1;33m,\u001b[0m \u001b[1;33m**\u001b[0m\u001b[0mkwargs\u001b[0m\u001b[1;33m\u001b[0m\u001b[1;33m\u001b[0m\u001b[0m\n\u001b[0m\u001b[0;32m   5883\u001b[0m             )\n\u001b[0;32m   5884\u001b[0m             \u001b[1;32mreturn\u001b[0m \u001b[0mself\u001b[0m\u001b[1;33m.\u001b[0m\u001b[0m_constructor\u001b[0m\u001b[1;33m(\u001b[0m\u001b[0mnew_data\u001b[0m\u001b[1;33m)\u001b[0m\u001b[1;33m.\u001b[0m\u001b[0m__finalize__\u001b[0m\u001b[1;33m(\u001b[0m\u001b[0mself\u001b[0m\u001b[1;33m)\u001b[0m\u001b[1;33m\u001b[0m\u001b[1;33m\u001b[0m\u001b[0m\n",
      "\u001b[1;32m~\\Miniconda3\\envs\\dlcourse_ai\\lib\\site-packages\\pandas\\core\\internals\\managers.py\u001b[0m in \u001b[0;36mastype\u001b[1;34m(self, dtype, **kwargs)\u001b[0m\n\u001b[0;32m    579\u001b[0m \u001b[1;33m\u001b[0m\u001b[0m\n\u001b[0;32m    580\u001b[0m     \u001b[1;32mdef\u001b[0m \u001b[0mastype\u001b[0m\u001b[1;33m(\u001b[0m\u001b[0mself\u001b[0m\u001b[1;33m,\u001b[0m \u001b[0mdtype\u001b[0m\u001b[1;33m,\u001b[0m \u001b[1;33m**\u001b[0m\u001b[0mkwargs\u001b[0m\u001b[1;33m)\u001b[0m\u001b[1;33m:\u001b[0m\u001b[1;33m\u001b[0m\u001b[1;33m\u001b[0m\u001b[0m\n\u001b[1;32m--> 581\u001b[1;33m         \u001b[1;32mreturn\u001b[0m \u001b[0mself\u001b[0m\u001b[1;33m.\u001b[0m\u001b[0mapply\u001b[0m\u001b[1;33m(\u001b[0m\u001b[1;34m\"astype\"\u001b[0m\u001b[1;33m,\u001b[0m \u001b[0mdtype\u001b[0m\u001b[1;33m=\u001b[0m\u001b[0mdtype\u001b[0m\u001b[1;33m,\u001b[0m \u001b[1;33m**\u001b[0m\u001b[0mkwargs\u001b[0m\u001b[1;33m)\u001b[0m\u001b[1;33m\u001b[0m\u001b[1;33m\u001b[0m\u001b[0m\n\u001b[0m\u001b[0;32m    582\u001b[0m \u001b[1;33m\u001b[0m\u001b[0m\n\u001b[0;32m    583\u001b[0m     \u001b[1;32mdef\u001b[0m \u001b[0mconvert\u001b[0m\u001b[1;33m(\u001b[0m\u001b[0mself\u001b[0m\u001b[1;33m,\u001b[0m \u001b[1;33m**\u001b[0m\u001b[0mkwargs\u001b[0m\u001b[1;33m)\u001b[0m\u001b[1;33m:\u001b[0m\u001b[1;33m\u001b[0m\u001b[1;33m\u001b[0m\u001b[0m\n",
      "\u001b[1;32m~\\Miniconda3\\envs\\dlcourse_ai\\lib\\site-packages\\pandas\\core\\internals\\managers.py\u001b[0m in \u001b[0;36mapply\u001b[1;34m(self, f, axes, filter, do_integrity_check, consolidate, **kwargs)\u001b[0m\n\u001b[0;32m    436\u001b[0m                     \u001b[0mkwargs\u001b[0m\u001b[1;33m[\u001b[0m\u001b[0mk\u001b[0m\u001b[1;33m]\u001b[0m \u001b[1;33m=\u001b[0m \u001b[0mobj\u001b[0m\u001b[1;33m.\u001b[0m\u001b[0mreindex\u001b[0m\u001b[1;33m(\u001b[0m\u001b[0mb_items\u001b[0m\u001b[1;33m,\u001b[0m \u001b[0maxis\u001b[0m\u001b[1;33m=\u001b[0m\u001b[0maxis\u001b[0m\u001b[1;33m,\u001b[0m \u001b[0mcopy\u001b[0m\u001b[1;33m=\u001b[0m\u001b[0malign_copy\u001b[0m\u001b[1;33m)\u001b[0m\u001b[1;33m\u001b[0m\u001b[1;33m\u001b[0m\u001b[0m\n\u001b[0;32m    437\u001b[0m \u001b[1;33m\u001b[0m\u001b[0m\n\u001b[1;32m--> 438\u001b[1;33m             \u001b[0mapplied\u001b[0m \u001b[1;33m=\u001b[0m \u001b[0mgetattr\u001b[0m\u001b[1;33m(\u001b[0m\u001b[0mb\u001b[0m\u001b[1;33m,\u001b[0m \u001b[0mf\u001b[0m\u001b[1;33m)\u001b[0m\u001b[1;33m(\u001b[0m\u001b[1;33m**\u001b[0m\u001b[0mkwargs\u001b[0m\u001b[1;33m)\u001b[0m\u001b[1;33m\u001b[0m\u001b[1;33m\u001b[0m\u001b[0m\n\u001b[0m\u001b[0;32m    439\u001b[0m             \u001b[0mresult_blocks\u001b[0m \u001b[1;33m=\u001b[0m \u001b[0m_extend_blocks\u001b[0m\u001b[1;33m(\u001b[0m\u001b[0mapplied\u001b[0m\u001b[1;33m,\u001b[0m \u001b[0mresult_blocks\u001b[0m\u001b[1;33m)\u001b[0m\u001b[1;33m\u001b[0m\u001b[1;33m\u001b[0m\u001b[0m\n\u001b[0;32m    440\u001b[0m \u001b[1;33m\u001b[0m\u001b[0m\n",
      "\u001b[1;32m~\\Miniconda3\\envs\\dlcourse_ai\\lib\\site-packages\\pandas\\core\\internals\\blocks.py\u001b[0m in \u001b[0;36mastype\u001b[1;34m(self, dtype, copy, errors, values, **kwargs)\u001b[0m\n\u001b[0;32m    557\u001b[0m \u001b[1;33m\u001b[0m\u001b[0m\n\u001b[0;32m    558\u001b[0m     \u001b[1;32mdef\u001b[0m \u001b[0mastype\u001b[0m\u001b[1;33m(\u001b[0m\u001b[0mself\u001b[0m\u001b[1;33m,\u001b[0m \u001b[0mdtype\u001b[0m\u001b[1;33m,\u001b[0m \u001b[0mcopy\u001b[0m\u001b[1;33m=\u001b[0m\u001b[1;32mFalse\u001b[0m\u001b[1;33m,\u001b[0m \u001b[0merrors\u001b[0m\u001b[1;33m=\u001b[0m\u001b[1;34m\"raise\"\u001b[0m\u001b[1;33m,\u001b[0m \u001b[0mvalues\u001b[0m\u001b[1;33m=\u001b[0m\u001b[1;32mNone\u001b[0m\u001b[1;33m,\u001b[0m \u001b[1;33m**\u001b[0m\u001b[0mkwargs\u001b[0m\u001b[1;33m)\u001b[0m\u001b[1;33m:\u001b[0m\u001b[1;33m\u001b[0m\u001b[1;33m\u001b[0m\u001b[0m\n\u001b[1;32m--> 559\u001b[1;33m         \u001b[1;32mreturn\u001b[0m \u001b[0mself\u001b[0m\u001b[1;33m.\u001b[0m\u001b[0m_astype\u001b[0m\u001b[1;33m(\u001b[0m\u001b[0mdtype\u001b[0m\u001b[1;33m,\u001b[0m \u001b[0mcopy\u001b[0m\u001b[1;33m=\u001b[0m\u001b[0mcopy\u001b[0m\u001b[1;33m,\u001b[0m \u001b[0merrors\u001b[0m\u001b[1;33m=\u001b[0m\u001b[0merrors\u001b[0m\u001b[1;33m,\u001b[0m \u001b[0mvalues\u001b[0m\u001b[1;33m=\u001b[0m\u001b[0mvalues\u001b[0m\u001b[1;33m,\u001b[0m \u001b[1;33m**\u001b[0m\u001b[0mkwargs\u001b[0m\u001b[1;33m)\u001b[0m\u001b[1;33m\u001b[0m\u001b[1;33m\u001b[0m\u001b[0m\n\u001b[0m\u001b[0;32m    560\u001b[0m \u001b[1;33m\u001b[0m\u001b[0m\n\u001b[0;32m    561\u001b[0m     \u001b[1;32mdef\u001b[0m \u001b[0m_astype\u001b[0m\u001b[1;33m(\u001b[0m\u001b[0mself\u001b[0m\u001b[1;33m,\u001b[0m \u001b[0mdtype\u001b[0m\u001b[1;33m,\u001b[0m \u001b[0mcopy\u001b[0m\u001b[1;33m=\u001b[0m\u001b[1;32mFalse\u001b[0m\u001b[1;33m,\u001b[0m \u001b[0merrors\u001b[0m\u001b[1;33m=\u001b[0m\u001b[1;34m\"raise\"\u001b[0m\u001b[1;33m,\u001b[0m \u001b[0mvalues\u001b[0m\u001b[1;33m=\u001b[0m\u001b[1;32mNone\u001b[0m\u001b[1;33m,\u001b[0m \u001b[1;33m**\u001b[0m\u001b[0mkwargs\u001b[0m\u001b[1;33m)\u001b[0m\u001b[1;33m:\u001b[0m\u001b[1;33m\u001b[0m\u001b[1;33m\u001b[0m\u001b[0m\n",
      "\u001b[1;32m~\\Miniconda3\\envs\\dlcourse_ai\\lib\\site-packages\\pandas\\core\\internals\\blocks.py\u001b[0m in \u001b[0;36m_astype\u001b[1;34m(self, dtype, copy, errors, values, **kwargs)\u001b[0m\n\u001b[0;32m    641\u001b[0m                     \u001b[1;31m# _astype_nansafe works fine with 1-d only\u001b[0m\u001b[1;33m\u001b[0m\u001b[1;33m\u001b[0m\u001b[1;33m\u001b[0m\u001b[0m\n\u001b[0;32m    642\u001b[0m                     \u001b[0mvals1d\u001b[0m \u001b[1;33m=\u001b[0m \u001b[0mvalues\u001b[0m\u001b[1;33m.\u001b[0m\u001b[0mravel\u001b[0m\u001b[1;33m(\u001b[0m\u001b[1;33m)\u001b[0m\u001b[1;33m\u001b[0m\u001b[1;33m\u001b[0m\u001b[0m\n\u001b[1;32m--> 643\u001b[1;33m                     \u001b[0mvalues\u001b[0m \u001b[1;33m=\u001b[0m \u001b[0mastype_nansafe\u001b[0m\u001b[1;33m(\u001b[0m\u001b[0mvals1d\u001b[0m\u001b[1;33m,\u001b[0m \u001b[0mdtype\u001b[0m\u001b[1;33m,\u001b[0m \u001b[0mcopy\u001b[0m\u001b[1;33m=\u001b[0m\u001b[1;32mTrue\u001b[0m\u001b[1;33m,\u001b[0m \u001b[1;33m**\u001b[0m\u001b[0mkwargs\u001b[0m\u001b[1;33m)\u001b[0m\u001b[1;33m\u001b[0m\u001b[1;33m\u001b[0m\u001b[0m\n\u001b[0m\u001b[0;32m    644\u001b[0m \u001b[1;33m\u001b[0m\u001b[0m\n\u001b[0;32m    645\u001b[0m                 \u001b[1;31m# TODO(extension)\u001b[0m\u001b[1;33m\u001b[0m\u001b[1;33m\u001b[0m\u001b[1;33m\u001b[0m\u001b[0m\n",
      "\u001b[1;32m~\\Miniconda3\\envs\\dlcourse_ai\\lib\\site-packages\\pandas\\core\\dtypes\\cast.py\u001b[0m in \u001b[0;36mastype_nansafe\u001b[1;34m(arr, dtype, copy, skipna)\u001b[0m\n\u001b[0;32m    705\u001b[0m         \u001b[1;31m# work around NumPy brokenness, #1987\u001b[0m\u001b[1;33m\u001b[0m\u001b[1;33m\u001b[0m\u001b[1;33m\u001b[0m\u001b[0m\n\u001b[0;32m    706\u001b[0m         \u001b[1;32mif\u001b[0m \u001b[0mnp\u001b[0m\u001b[1;33m.\u001b[0m\u001b[0missubdtype\u001b[0m\u001b[1;33m(\u001b[0m\u001b[0mdtype\u001b[0m\u001b[1;33m.\u001b[0m\u001b[0mtype\u001b[0m\u001b[1;33m,\u001b[0m \u001b[0mnp\u001b[0m\u001b[1;33m.\u001b[0m\u001b[0minteger\u001b[0m\u001b[1;33m)\u001b[0m\u001b[1;33m:\u001b[0m\u001b[1;33m\u001b[0m\u001b[1;33m\u001b[0m\u001b[0m\n\u001b[1;32m--> 707\u001b[1;33m             \u001b[1;32mreturn\u001b[0m \u001b[0mlib\u001b[0m\u001b[1;33m.\u001b[0m\u001b[0mastype_intsafe\u001b[0m\u001b[1;33m(\u001b[0m\u001b[0marr\u001b[0m\u001b[1;33m.\u001b[0m\u001b[0mravel\u001b[0m\u001b[1;33m(\u001b[0m\u001b[1;33m)\u001b[0m\u001b[1;33m,\u001b[0m \u001b[0mdtype\u001b[0m\u001b[1;33m)\u001b[0m\u001b[1;33m.\u001b[0m\u001b[0mreshape\u001b[0m\u001b[1;33m(\u001b[0m\u001b[0marr\u001b[0m\u001b[1;33m.\u001b[0m\u001b[0mshape\u001b[0m\u001b[1;33m)\u001b[0m\u001b[1;33m\u001b[0m\u001b[1;33m\u001b[0m\u001b[0m\n\u001b[0m\u001b[0;32m    708\u001b[0m \u001b[1;33m\u001b[0m\u001b[0m\n\u001b[0;32m    709\u001b[0m         \u001b[1;31m# if we have a datetime/timedelta array of objects\u001b[0m\u001b[1;33m\u001b[0m\u001b[1;33m\u001b[0m\u001b[1;33m\u001b[0m\u001b[0m\n",
      "\u001b[1;32mpandas/_libs/lib.pyx\u001b[0m in \u001b[0;36mpandas._libs.lib.astype_intsafe\u001b[1;34m()\u001b[0m\n",
      "\u001b[1;31mValueError\u001b[0m: invalid literal for int() with base 10: 'nan'"
     ],
     "ename": "ValueError",
     "evalue": "invalid literal for int() with base 10: 'nan'",
     "output_type": "error"
    }
   ],
   "source": [
    "col = 'm_small_toys'\n",
    "df[col] = df[col].astype(int)"
   ],
   "metadata": {
    "collapsed": false,
    "pycharm": {
     "name": "#%%\n",
     "is_executing": false
    }
   }
  },
  {
   "cell_type": "code",
   "execution_count": 191,
   "outputs": [
    {
     "data": {
      "text/plain": "    day month  year       store      m_date_time_str                m_user  \\\n0     3     4  2019   Парк Хаус  03.04.2019 12:43:47     Виктория Новикова   \n1     3     4  2019     Ривьера  03.04.2019 18:23:27  Анастасия Черкасова    \n2     3     4  2019  Сити Центр  03.04.2019 18:36:43       Адиля  Галиева    \n3     3     4  2019  СуварПлаза  03.04.2019 13:35:26       Садреева Эльза    \n4     4     4  2019   Парк Хаус  04.04.2019 10:46:25     Виктория Новикова   \n..   ..   ...   ...         ...                  ...                   ...   \n767   2     1  2020     Ривьера  02.01.2020 12:23:25     Юлдуз Бекмуратова   \n768   3     1  2020   Парк Хаус  03.01.2020 23:09:12     Раиса Загидуллина   \n769   3     1  2020     Ривьера  03.01.2020 10:29:04    Ибрагимов Ринальд    \n770   4     1  2020   Парк Хаус  04.01.2020 12:52:24    Виктория Новикова    \n771   4     1  2020     Ривьера  04.01.2020 11:43:48    Ринальд ибрагимов    \n\n    m_small_toys m_medium_toys m_big_toys m_exchange  ... e_prepayment  \\\n0             11            43         10        950  ...          600   \n1              0            19          6       1050  ...          650   \n2             20            49          6        650  ...          600   \n3              2            40          6        900  ...            0   \n4              7            43         10       1026  ...          600   \n..           ...           ...        ...        ...  ...          ...   \n767           23            13         24       4250  ...         2800   \n768            0            13         29       1350  ...          600   \n769           17             8         23       1600  ...         1000   \n770            1             9         32       1700  ...          nan   \n771            8             7         17        900  ...          nan   \n\n    e_balance                                          e_ok_guns  \\\n0        2000  АК 47 черный', 'М-4 укороченный', 'G-36 черный...   \n1           0  , '', '', '', 'М-4 укороченный', '', '', '', '',    \n2           0  АК 47 в дереве', 'М-4 укороченный', '', '', ''...   \n3         300            M-16', '', '', '', '', '', '', '', '',    \n4        3000  АК 47 черный', 'М-4 укороченный', 'G-36 черный...   \n..        ...                                                ...   \n767      6000  G-36 черный', '', '', '', '', '', '', '', '', ...   \n768     12400  АК 47 в дереве', 'АК 47 черный', 'M-4A1', '', ...   \n769      7900  G-36 черный', '', '', '', '', '', '', '', '', ...   \n770       nan                                                nan   \n771       nan                                                nan   \n\n                                            e_bed_guns  \\\n0                   , '', '', '', '', '', '', '', '',    \n1                   , '', '', '', '', '', '', '', '',    \n2                   , '', '', '', '', '', '', '', '',    \n3                   , '', '', '', '', '', '', '', '',    \n4                   , '', '', '', '', '', '', '', '',    \n..                                                 ...   \n767            M-16', '', '', '', '', '', '', '', '',    \n768                 , '', '', '', '', '', '', '', '',    \n769  АК 47 черный', 'M-4A1', '', '', '', '', '', ''...   \n770                                                nan   \n771                                                nan   \n\n                                             e_comment e_are_you_good  \\\n0                                                                   5   \n1                                                                   1   \n2            из выручки 150р нал,добавила их в размен.              1   \n3                                                                   1   \n4               сделала выручку, как и хотела,я рада))              5   \n..                                                 ...            ...   \n767  Такси:100р оружие,\\n100п пульки,\\n350 скотч.\\n...              5   \n768                                                                 5   \n769  Может быть пересчёт на 150рублей была отмена н...              5   \n770                                                nan            nan   \n771                                                nan            nan   \n\n    e_is_it_a_good_day e_small_toys_win e_medium_toys_win e_big_toys_wit  \n0                    3                                                    \n1                    2                                                    \n2                    1                                                    \n3                    1                                                    \n4                    5                                                    \n..                 ...              ...               ...            ...  \n767                  4                5                 2              3  \n768                  5                0                 1              0  \n769                  5                1                 1              1  \n770                nan              nan               nan            nan  \n771                nan              nan               nan            nan  \n\n[772 rows x 50 columns]",
      "text/html": "<div>\n<style scoped>\n    .dataframe tbody tr th:only-of-type {\n        vertical-align: middle;\n    }\n\n    .dataframe tbody tr th {\n        vertical-align: top;\n    }\n\n    .dataframe thead th {\n        text-align: right;\n    }\n</style>\n<table border=\"1\" class=\"dataframe\">\n  <thead>\n    <tr style=\"text-align: right;\">\n      <th></th>\n      <th>day</th>\n      <th>month</th>\n      <th>year</th>\n      <th>store</th>\n      <th>m_date_time_str</th>\n      <th>m_user</th>\n      <th>m_small_toys</th>\n      <th>m_medium_toys</th>\n      <th>m_big_toys</th>\n      <th>m_exchange</th>\n      <th>...</th>\n      <th>e_prepayment</th>\n      <th>e_balance</th>\n      <th>e_ok_guns</th>\n      <th>e_bed_guns</th>\n      <th>e_comment</th>\n      <th>e_are_you_good</th>\n      <th>e_is_it_a_good_day</th>\n      <th>e_small_toys_win</th>\n      <th>e_medium_toys_win</th>\n      <th>e_big_toys_wit</th>\n    </tr>\n  </thead>\n  <tbody>\n    <tr>\n      <th>0</th>\n      <td>3</td>\n      <td>4</td>\n      <td>2019</td>\n      <td>Парк Хаус</td>\n      <td>03.04.2019 12:43:47</td>\n      <td>Виктория Новикова</td>\n      <td>11</td>\n      <td>43</td>\n      <td>10</td>\n      <td>950</td>\n      <td>...</td>\n      <td>600</td>\n      <td>2000</td>\n      <td>АК 47 черный', 'М-4 укороченный', 'G-36 черный...</td>\n      <td>, '', '', '', '', '', '', '', '',</td>\n      <td></td>\n      <td>5</td>\n      <td>3</td>\n      <td></td>\n      <td></td>\n      <td></td>\n    </tr>\n    <tr>\n      <th>1</th>\n      <td>3</td>\n      <td>4</td>\n      <td>2019</td>\n      <td>Ривьера</td>\n      <td>03.04.2019 18:23:27</td>\n      <td>Анастасия Черкасова</td>\n      <td>0</td>\n      <td>19</td>\n      <td>6</td>\n      <td>1050</td>\n      <td>...</td>\n      <td>650</td>\n      <td>0</td>\n      <td>, '', '', '', 'М-4 укороченный', '', '', '', '',</td>\n      <td>, '', '', '', '', '', '', '', '',</td>\n      <td></td>\n      <td>1</td>\n      <td>2</td>\n      <td></td>\n      <td></td>\n      <td></td>\n    </tr>\n    <tr>\n      <th>2</th>\n      <td>3</td>\n      <td>4</td>\n      <td>2019</td>\n      <td>Сити Центр</td>\n      <td>03.04.2019 18:36:43</td>\n      <td>Адиля  Галиева</td>\n      <td>20</td>\n      <td>49</td>\n      <td>6</td>\n      <td>650</td>\n      <td>...</td>\n      <td>600</td>\n      <td>0</td>\n      <td>АК 47 в дереве', 'М-4 укороченный', '', '', ''...</td>\n      <td>, '', '', '', '', '', '', '', '',</td>\n      <td>из выручки 150р нал,добавила их в размен.</td>\n      <td>1</td>\n      <td>1</td>\n      <td></td>\n      <td></td>\n      <td></td>\n    </tr>\n    <tr>\n      <th>3</th>\n      <td>3</td>\n      <td>4</td>\n      <td>2019</td>\n      <td>СуварПлаза</td>\n      <td>03.04.2019 13:35:26</td>\n      <td>Садреева Эльза</td>\n      <td>2</td>\n      <td>40</td>\n      <td>6</td>\n      <td>900</td>\n      <td>...</td>\n      <td>0</td>\n      <td>300</td>\n      <td>M-16', '', '', '', '', '', '', '', '',</td>\n      <td>, '', '', '', '', '', '', '', '',</td>\n      <td></td>\n      <td>1</td>\n      <td>1</td>\n      <td></td>\n      <td></td>\n      <td></td>\n    </tr>\n    <tr>\n      <th>4</th>\n      <td>4</td>\n      <td>4</td>\n      <td>2019</td>\n      <td>Парк Хаус</td>\n      <td>04.04.2019 10:46:25</td>\n      <td>Виктория Новикова</td>\n      <td>7</td>\n      <td>43</td>\n      <td>10</td>\n      <td>1026</td>\n      <td>...</td>\n      <td>600</td>\n      <td>3000</td>\n      <td>АК 47 черный', 'М-4 укороченный', 'G-36 черный...</td>\n      <td>, '', '', '', '', '', '', '', '',</td>\n      <td>сделала выручку, как и хотела,я рада))</td>\n      <td>5</td>\n      <td>5</td>\n      <td></td>\n      <td></td>\n      <td></td>\n    </tr>\n    <tr>\n      <th>...</th>\n      <td>...</td>\n      <td>...</td>\n      <td>...</td>\n      <td>...</td>\n      <td>...</td>\n      <td>...</td>\n      <td>...</td>\n      <td>...</td>\n      <td>...</td>\n      <td>...</td>\n      <td>...</td>\n      <td>...</td>\n      <td>...</td>\n      <td>...</td>\n      <td>...</td>\n      <td>...</td>\n      <td>...</td>\n      <td>...</td>\n      <td>...</td>\n      <td>...</td>\n      <td>...</td>\n    </tr>\n    <tr>\n      <th>767</th>\n      <td>2</td>\n      <td>1</td>\n      <td>2020</td>\n      <td>Ривьера</td>\n      <td>02.01.2020 12:23:25</td>\n      <td>Юлдуз Бекмуратова</td>\n      <td>23</td>\n      <td>13</td>\n      <td>24</td>\n      <td>4250</td>\n      <td>...</td>\n      <td>2800</td>\n      <td>6000</td>\n      <td>G-36 черный', '', '', '', '', '', '', '', '', ...</td>\n      <td>M-16', '', '', '', '', '', '', '', '',</td>\n      <td>Такси:100р оружие,\\n100п пульки,\\n350 скотч.\\n...</td>\n      <td>5</td>\n      <td>4</td>\n      <td>5</td>\n      <td>2</td>\n      <td>3</td>\n    </tr>\n    <tr>\n      <th>768</th>\n      <td>3</td>\n      <td>1</td>\n      <td>2020</td>\n      <td>Парк Хаус</td>\n      <td>03.01.2020 23:09:12</td>\n      <td>Раиса Загидуллина</td>\n      <td>0</td>\n      <td>13</td>\n      <td>29</td>\n      <td>1350</td>\n      <td>...</td>\n      <td>600</td>\n      <td>12400</td>\n      <td>АК 47 в дереве', 'АК 47 черный', 'M-4A1', '', ...</td>\n      <td>, '', '', '', '', '', '', '', '',</td>\n      <td></td>\n      <td>5</td>\n      <td>5</td>\n      <td>0</td>\n      <td>1</td>\n      <td>0</td>\n    </tr>\n    <tr>\n      <th>769</th>\n      <td>3</td>\n      <td>1</td>\n      <td>2020</td>\n      <td>Ривьера</td>\n      <td>03.01.2020 10:29:04</td>\n      <td>Ибрагимов Ринальд</td>\n      <td>17</td>\n      <td>8</td>\n      <td>23</td>\n      <td>1600</td>\n      <td>...</td>\n      <td>1000</td>\n      <td>7900</td>\n      <td>G-36 черный', '', '', '', '', '', '', '', '', ...</td>\n      <td>АК 47 черный', 'M-4A1', '', '', '', '', '', ''...</td>\n      <td>Может быть пересчёт на 150рублей была отмена н...</td>\n      <td>5</td>\n      <td>5</td>\n      <td>1</td>\n      <td>1</td>\n      <td>1</td>\n    </tr>\n    <tr>\n      <th>770</th>\n      <td>4</td>\n      <td>1</td>\n      <td>2020</td>\n      <td>Парк Хаус</td>\n      <td>04.01.2020 12:52:24</td>\n      <td>Виктория Новикова</td>\n      <td>1</td>\n      <td>9</td>\n      <td>32</td>\n      <td>1700</td>\n      <td>...</td>\n      <td>nan</td>\n      <td>nan</td>\n      <td>nan</td>\n      <td>nan</td>\n      <td>nan</td>\n      <td>nan</td>\n      <td>nan</td>\n      <td>nan</td>\n      <td>nan</td>\n      <td>nan</td>\n    </tr>\n    <tr>\n      <th>771</th>\n      <td>4</td>\n      <td>1</td>\n      <td>2020</td>\n      <td>Ривьера</td>\n      <td>04.01.2020 11:43:48</td>\n      <td>Ринальд ибрагимов</td>\n      <td>8</td>\n      <td>7</td>\n      <td>17</td>\n      <td>900</td>\n      <td>...</td>\n      <td>nan</td>\n      <td>nan</td>\n      <td>nan</td>\n      <td>nan</td>\n      <td>nan</td>\n      <td>nan</td>\n      <td>nan</td>\n      <td>nan</td>\n      <td>nan</td>\n      <td>nan</td>\n    </tr>\n  </tbody>\n</table>\n<p>772 rows × 50 columns</p>\n</div>"
     },
     "metadata": {},
     "output_type": "execute_result",
     "execution_count": 191
    }
   ],
   "source": [],
   "metadata": {
    "collapsed": false,
    "pycharm": {
     "name": "#%%\n",
     "is_executing": false
    }
   }
  },
  {
   "cell_type": "code",
   "execution_count": 190,
   "outputs": [
    {
     "data": {
      "text/plain": "    day month  year       store      m_date_time_str                m_user  \\\n0     3     4  2019   Парк Хаус  03.04.2019 12:43:47     Виктория Новикова   \n1     3     4  2019     Ривьера  03.04.2019 18:23:27  Анастасия Черкасова    \n2     3     4  2019  Сити Центр  03.04.2019 18:36:43       Адиля  Галиева    \n3     3     4  2019  СуварПлаза  03.04.2019 13:35:26       Садреева Эльза    \n4     4     4  2019   Парк Хаус  04.04.2019 10:46:25     Виктория Новикова   \n..   ..   ...   ...         ...                  ...                   ...   \n767   2     1  2020     Ривьера  02.01.2020 12:23:25     Юлдуз Бекмуратова   \n768   3     1  2020   Парк Хаус  03.01.2020 23:09:12     Раиса Загидуллина   \n769   3     1  2020     Ривьера  03.01.2020 10:29:04    Ибрагимов Ринальд    \n770   4     1  2020   Парк Хаус  04.01.2020 12:52:24    Виктория Новикова    \n771   4     1  2020     Ривьера  04.01.2020 11:43:48    Ринальд ибрагимов    \n\n    m_small_toys m_medium_toys m_big_toys m_exchange  ... e_prepayment  \\\n0             11            43         10        950  ...          600   \n1              0            19          6       1050  ...          650   \n2             20            49          6        650  ...          600   \n3              2            40          6        900  ...            0   \n4              7            43         10       1026  ...          600   \n..           ...           ...        ...        ...  ...          ...   \n767           23            13         24       4250  ...         2800   \n768            0            13         29       1350  ...          600   \n769           17             8         23       1600  ...         1000   \n770            1             9         32       1700  ...          nan   \n771            8             7         17        900  ...          nan   \n\n    e_balance                                          e_ok_guns  \\\n0        2000  АК 47 черный', 'М-4 укороченный', 'G-36 черный...   \n1           0  , '', '', '', 'М-4 укороченный', '', '', '', '',    \n2           0  АК 47 в дереве', 'М-4 укороченный', '', '', ''...   \n3         300            M-16', '', '', '', '', '', '', '', '',    \n4        3000  АК 47 черный', 'М-4 укороченный', 'G-36 черный...   \n..        ...                                                ...   \n767      6000  G-36 черный', '', '', '', '', '', '', '', '', ...   \n768     12400  АК 47 в дереве', 'АК 47 черный', 'M-4A1', '', ...   \n769      7900  G-36 черный', '', '', '', '', '', '', '', '', ...   \n770       nan                                                nan   \n771       nan                                                nan   \n\n                                            e_bed_guns  \\\n0                   , '', '', '', '', '', '', '', '',    \n1                   , '', '', '', '', '', '', '', '',    \n2                   , '', '', '', '', '', '', '', '',    \n3                   , '', '', '', '', '', '', '', '',    \n4                   , '', '', '', '', '', '', '', '',    \n..                                                 ...   \n767            M-16', '', '', '', '', '', '', '', '',    \n768                 , '', '', '', '', '', '', '', '',    \n769  АК 47 черный', 'M-4A1', '', '', '', '', '', ''...   \n770                                                nan   \n771                                                nan   \n\n                                             e_comment e_are_you_good  \\\n0                                                                   5   \n1                                                                   1   \n2            из выручки 150р нал,добавила их в размен.              1   \n3                                                                   1   \n4               сделала выручку, как и хотела,я рада))              5   \n..                                                 ...            ...   \n767  Такси:100р оружие,\\n100п пульки,\\n350 скотч.\\n...              5   \n768                                                                 5   \n769  Может быть пересчёт на 150рублей была отмена н...              5   \n770                                                nan            nan   \n771                                                nan            nan   \n\n    e_is_it_a_good_day e_small_toys_win e_medium_toys_win e_big_toys_wit  \n0                    3                                                    \n1                    2                                                    \n2                    1                                                    \n3                    1                                                    \n4                    5                                                    \n..                 ...              ...               ...            ...  \n767                  4                5                 2              3  \n768                  5                0                 1              0  \n769                  5                1                 1              1  \n770                nan              nan               nan            nan  \n771                nan              nan               nan            nan  \n\n[772 rows x 50 columns]",
      "text/html": "<div>\n<style scoped>\n    .dataframe tbody tr th:only-of-type {\n        vertical-align: middle;\n    }\n\n    .dataframe tbody tr th {\n        vertical-align: top;\n    }\n\n    .dataframe thead th {\n        text-align: right;\n    }\n</style>\n<table border=\"1\" class=\"dataframe\">\n  <thead>\n    <tr style=\"text-align: right;\">\n      <th></th>\n      <th>day</th>\n      <th>month</th>\n      <th>year</th>\n      <th>store</th>\n      <th>m_date_time_str</th>\n      <th>m_user</th>\n      <th>m_small_toys</th>\n      <th>m_medium_toys</th>\n      <th>m_big_toys</th>\n      <th>m_exchange</th>\n      <th>...</th>\n      <th>e_prepayment</th>\n      <th>e_balance</th>\n      <th>e_ok_guns</th>\n      <th>e_bed_guns</th>\n      <th>e_comment</th>\n      <th>e_are_you_good</th>\n      <th>e_is_it_a_good_day</th>\n      <th>e_small_toys_win</th>\n      <th>e_medium_toys_win</th>\n      <th>e_big_toys_wit</th>\n    </tr>\n  </thead>\n  <tbody>\n    <tr>\n      <th>0</th>\n      <td>3</td>\n      <td>4</td>\n      <td>2019</td>\n      <td>Парк Хаус</td>\n      <td>03.04.2019 12:43:47</td>\n      <td>Виктория Новикова</td>\n      <td>11</td>\n      <td>43</td>\n      <td>10</td>\n      <td>950</td>\n      <td>...</td>\n      <td>600</td>\n      <td>2000</td>\n      <td>АК 47 черный', 'М-4 укороченный', 'G-36 черный...</td>\n      <td>, '', '', '', '', '', '', '', '',</td>\n      <td></td>\n      <td>5</td>\n      <td>3</td>\n      <td></td>\n      <td></td>\n      <td></td>\n    </tr>\n    <tr>\n      <th>1</th>\n      <td>3</td>\n      <td>4</td>\n      <td>2019</td>\n      <td>Ривьера</td>\n      <td>03.04.2019 18:23:27</td>\n      <td>Анастасия Черкасова</td>\n      <td>0</td>\n      <td>19</td>\n      <td>6</td>\n      <td>1050</td>\n      <td>...</td>\n      <td>650</td>\n      <td>0</td>\n      <td>, '', '', '', 'М-4 укороченный', '', '', '', '',</td>\n      <td>, '', '', '', '', '', '', '', '',</td>\n      <td></td>\n      <td>1</td>\n      <td>2</td>\n      <td></td>\n      <td></td>\n      <td></td>\n    </tr>\n    <tr>\n      <th>2</th>\n      <td>3</td>\n      <td>4</td>\n      <td>2019</td>\n      <td>Сити Центр</td>\n      <td>03.04.2019 18:36:43</td>\n      <td>Адиля  Галиева</td>\n      <td>20</td>\n      <td>49</td>\n      <td>6</td>\n      <td>650</td>\n      <td>...</td>\n      <td>600</td>\n      <td>0</td>\n      <td>АК 47 в дереве', 'М-4 укороченный', '', '', ''...</td>\n      <td>, '', '', '', '', '', '', '', '',</td>\n      <td>из выручки 150р нал,добавила их в размен.</td>\n      <td>1</td>\n      <td>1</td>\n      <td></td>\n      <td></td>\n      <td></td>\n    </tr>\n    <tr>\n      <th>3</th>\n      <td>3</td>\n      <td>4</td>\n      <td>2019</td>\n      <td>СуварПлаза</td>\n      <td>03.04.2019 13:35:26</td>\n      <td>Садреева Эльза</td>\n      <td>2</td>\n      <td>40</td>\n      <td>6</td>\n      <td>900</td>\n      <td>...</td>\n      <td>0</td>\n      <td>300</td>\n      <td>M-16', '', '', '', '', '', '', '', '',</td>\n      <td>, '', '', '', '', '', '', '', '',</td>\n      <td></td>\n      <td>1</td>\n      <td>1</td>\n      <td></td>\n      <td></td>\n      <td></td>\n    </tr>\n    <tr>\n      <th>4</th>\n      <td>4</td>\n      <td>4</td>\n      <td>2019</td>\n      <td>Парк Хаус</td>\n      <td>04.04.2019 10:46:25</td>\n      <td>Виктория Новикова</td>\n      <td>7</td>\n      <td>43</td>\n      <td>10</td>\n      <td>1026</td>\n      <td>...</td>\n      <td>600</td>\n      <td>3000</td>\n      <td>АК 47 черный', 'М-4 укороченный', 'G-36 черный...</td>\n      <td>, '', '', '', '', '', '', '', '',</td>\n      <td>сделала выручку, как и хотела,я рада))</td>\n      <td>5</td>\n      <td>5</td>\n      <td></td>\n      <td></td>\n      <td></td>\n    </tr>\n    <tr>\n      <th>...</th>\n      <td>...</td>\n      <td>...</td>\n      <td>...</td>\n      <td>...</td>\n      <td>...</td>\n      <td>...</td>\n      <td>...</td>\n      <td>...</td>\n      <td>...</td>\n      <td>...</td>\n      <td>...</td>\n      <td>...</td>\n      <td>...</td>\n      <td>...</td>\n      <td>...</td>\n      <td>...</td>\n      <td>...</td>\n      <td>...</td>\n      <td>...</td>\n      <td>...</td>\n      <td>...</td>\n    </tr>\n    <tr>\n      <th>767</th>\n      <td>2</td>\n      <td>1</td>\n      <td>2020</td>\n      <td>Ривьера</td>\n      <td>02.01.2020 12:23:25</td>\n      <td>Юлдуз Бекмуратова</td>\n      <td>23</td>\n      <td>13</td>\n      <td>24</td>\n      <td>4250</td>\n      <td>...</td>\n      <td>2800</td>\n      <td>6000</td>\n      <td>G-36 черный', '', '', '', '', '', '', '', '', ...</td>\n      <td>M-16', '', '', '', '', '', '', '', '',</td>\n      <td>Такси:100р оружие,\\n100п пульки,\\n350 скотч.\\n...</td>\n      <td>5</td>\n      <td>4</td>\n      <td>5</td>\n      <td>2</td>\n      <td>3</td>\n    </tr>\n    <tr>\n      <th>768</th>\n      <td>3</td>\n      <td>1</td>\n      <td>2020</td>\n      <td>Парк Хаус</td>\n      <td>03.01.2020 23:09:12</td>\n      <td>Раиса Загидуллина</td>\n      <td>0</td>\n      <td>13</td>\n      <td>29</td>\n      <td>1350</td>\n      <td>...</td>\n      <td>600</td>\n      <td>12400</td>\n      <td>АК 47 в дереве', 'АК 47 черный', 'M-4A1', '', ...</td>\n      <td>, '', '', '', '', '', '', '', '',</td>\n      <td></td>\n      <td>5</td>\n      <td>5</td>\n      <td>0</td>\n      <td>1</td>\n      <td>0</td>\n    </tr>\n    <tr>\n      <th>769</th>\n      <td>3</td>\n      <td>1</td>\n      <td>2020</td>\n      <td>Ривьера</td>\n      <td>03.01.2020 10:29:04</td>\n      <td>Ибрагимов Ринальд</td>\n      <td>17</td>\n      <td>8</td>\n      <td>23</td>\n      <td>1600</td>\n      <td>...</td>\n      <td>1000</td>\n      <td>7900</td>\n      <td>G-36 черный', '', '', '', '', '', '', '', '', ...</td>\n      <td>АК 47 черный', 'M-4A1', '', '', '', '', '', ''...</td>\n      <td>Может быть пересчёт на 150рублей была отмена н...</td>\n      <td>5</td>\n      <td>5</td>\n      <td>1</td>\n      <td>1</td>\n      <td>1</td>\n    </tr>\n    <tr>\n      <th>770</th>\n      <td>4</td>\n      <td>1</td>\n      <td>2020</td>\n      <td>Парк Хаус</td>\n      <td>04.01.2020 12:52:24</td>\n      <td>Виктория Новикова</td>\n      <td>1</td>\n      <td>9</td>\n      <td>32</td>\n      <td>1700</td>\n      <td>...</td>\n      <td>nan</td>\n      <td>nan</td>\n      <td>nan</td>\n      <td>nan</td>\n      <td>nan</td>\n      <td>nan</td>\n      <td>nan</td>\n      <td>nan</td>\n      <td>nan</td>\n      <td>nan</td>\n    </tr>\n    <tr>\n      <th>771</th>\n      <td>4</td>\n      <td>1</td>\n      <td>2020</td>\n      <td>Ривьера</td>\n      <td>04.01.2020 11:43:48</td>\n      <td>Ринальд ибрагимов</td>\n      <td>8</td>\n      <td>7</td>\n      <td>17</td>\n      <td>900</td>\n      <td>...</td>\n      <td>nan</td>\n      <td>nan</td>\n      <td>nan</td>\n      <td>nan</td>\n      <td>nan</td>\n      <td>nan</td>\n      <td>nan</td>\n      <td>nan</td>\n      <td>nan</td>\n      <td>nan</td>\n    </tr>\n  </tbody>\n</table>\n<p>772 rows × 50 columns</p>\n</div>"
     },
     "metadata": {},
     "output_type": "execute_result",
     "execution_count": 190
    }
   ],
   "source": [
    "df"
   ],
   "metadata": {
    "collapsed": false,
    "pycharm": {
     "name": "#%%\n",
     "is_executing": false
    }
   }
  },
  {
   "cell_type": "code",
   "execution_count": 113,
   "outputs": [
    {
     "data": {
      "text/plain": "   day user1 user2             l\n0    1     g   [g]     [a, b, b]\n1    2     m   [m]  [q, w, e, r]",
      "text/html": "<div>\n<style scoped>\n    .dataframe tbody tr th:only-of-type {\n        vertical-align: middle;\n    }\n\n    .dataframe tbody tr th {\n        vertical-align: top;\n    }\n\n    .dataframe thead th {\n        text-align: right;\n    }\n</style>\n<table border=\"1\" class=\"dataframe\">\n  <thead>\n    <tr style=\"text-align: right;\">\n      <th></th>\n      <th>day</th>\n      <th>user1</th>\n      <th>user2</th>\n      <th>l</th>\n    </tr>\n  </thead>\n  <tbody>\n    <tr>\n      <th>0</th>\n      <td>1</td>\n      <td>g</td>\n      <td>[g]</td>\n      <td>[a, b, b]</td>\n    </tr>\n    <tr>\n      <th>1</th>\n      <td>2</td>\n      <td>m</td>\n      <td>[m]</td>\n      <td>[q, w, e, r]</td>\n    </tr>\n  </tbody>\n</table>\n</div>"
     },
     "metadata": {},
     "output_type": "execute_result",
     "execution_count": 113
    }
   ],
   "source": [
    "'[dddssa]'.strip('[]')\n",
    "\n",
    "tdf = pd.DataFrame({\n",
    "    'day':[1,2],\n",
    "    'user1':['g','m'],\n",
    "    'user2':[['g'],['m']],\n",
    "    'l' : [['a','b','b'], ['q','w','e','r']]\n",
    "})\n",
    "\n",
    "tdf"
   ],
   "metadata": {
    "collapsed": false,
    "pycharm": {
     "name": "#%%\n",
     "is_executing": false
    }
   }
  },
  {
   "cell_type": "code",
   "execution_count": 117,
   "outputs": [
    {
     "data": {
      "text/plain": "Index(['day', 'month', 'year', 'store', 'morning_date_time_str',\n       'morning_user', 'morning_small_toys', 'morning_medium_toys',\n       'morning_big_toys', 'morning_exchange', 'morning_bolls',\n       'morning_sticks', 'morning_sockets', 'morning_pellet', 'morning_candis',\n       'morning_envelope', 'morning_reports', 'morning_comment',\n       'morning_ok_guns', 'morning_bed_guns', 'morning_mood',\n       'morning_power_reserve', 'morning_plan', 'morning_0', 'morning_set',\n       'evening_date_time_str', 'evening_user', 'evening_small_toys_up',\n       'evening_medium_toys_up', 'evening_big_toys_up',\n       'evening_small_toys_down', 'evening_medium_toys_down',\n       'evening_big_toys_down', 'evening_small_toys', 'evening_medium_toys',\n       'evening_big_toys', 'evening_exchange', 'evening_cash',\n       'evening_cashless', 'evening_collection_spending', 'evening_prepayment',\n       'evening_balance', 'evening_ok_guns', 'evening_bed_guns',\n       'evening_comment', 'evening_are_you_good', 'evening_is_it_a_good_day',\n       'evening_small_toys_win', 'evening_medium_toys_win',\n       'evening_big_toys_wit'],\n      dtype='object')"
     },
     "metadata": {},
     "output_type": "execute_result",
     "execution_count": 117
    }
   ],
   "source": [],
   "metadata": {
    "collapsed": false,
    "pycharm": {
     "name": "#%%\n",
     "is_executing": false
    }
   }
  }
 ],
 "metadata": {
  "kernelspec": {
   "display_name": "Python 3",
   "language": "python",
   "name": "python3"
  },
  "language_info": {
   "codemirror_mode": {
    "name": "ipython",
    "version": 2
   },
   "file_extension": ".py",
   "mimetype": "text/x-python",
   "name": "python",
   "nbconvert_exporter": "python",
   "pygments_lexer": "ipython2",
   "version": "2.7.6"
  },
  "pycharm": {
   "stem_cell": {
    "cell_type": "raw",
    "source": [],
    "metadata": {
     "collapsed": false
    }
   }
  }
 },
 "nbformat": 4,
 "nbformat_minor": 0
}